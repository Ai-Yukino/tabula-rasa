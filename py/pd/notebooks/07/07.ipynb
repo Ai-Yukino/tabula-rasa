{
 "cells": [
  {
   "cell_type": "markdown",
   "id": "95d8ea28-99aa-4d2d-be2d-8ce561bd3a5b",
   "metadata": {},
   "source": [
    "# `tabula-rasa/py/pd/notebooks/07/07.ipynb`\n",
    "\n",
    "---\n",
    "\n",
    "My solutions for [/07_Visualization/Scores](https://github.com/zachhall/pandas_exercises/tree/master/07_Visualization/Scores)"
   ]
  },
  {
   "cell_type": "markdown",
   "id": "d7a02ef3-7fdc-4ec7-97eb-fafeb767eb99",
   "metadata": {},
   "source": [
    "## ❄ Step 1. Import the necessary libraries"
   ]
  },
  {
   "cell_type": "code",
   "execution_count": 1,
   "id": "951569d5-4459-4f3d-b6a2-a6eb41ced4d1",
   "metadata": {},
   "outputs": [],
   "source": [
    "import os\n",
    "\n",
    "import pandas as pd\n",
    "import matplotlib.pyplot as plt"
   ]
  },
  {
   "cell_type": "code",
   "execution_count": 2,
   "id": "9fb0fa18-b208-4072-bd60-18aed9d8af72",
   "metadata": {},
   "outputs": [],
   "source": [
    "path = os.path.join(\".\", \"..\", \"..\", \"style\", \"ai.mplstyle\")\n",
    "plt.style.use(path)"
   ]
  },
  {
   "cell_type": "markdown",
   "id": "9ef39f0a-fc68-4e91-bb1d-2273754a46a5",
   "metadata": {},
   "source": [
    "## 🌸 Step 2. Create the DataFrame that should look like the one below."
   ]
  },
  {
   "cell_type": "code",
   "execution_count": 3,
   "id": "ff7df52d-8bd2-4c5a-be7d-4ae9d2079f20",
   "metadata": {},
   "outputs": [],
   "source": [
    "dictionary = {\n",
    "    \"first_name\": [\"Jason\", \"Molly\", \"Tina\", \"Jake\", \"Amy\"],\n",
    "    \"last_name\": [\"Miller\", \"Jacobson\", \"Ali\", \"Milner\", \"Cooze\"],\n",
    "    \"age\": [42, 52, 36, 24, 73],\n",
    "    \"female\": [0, 1, 1, 0, 1],\n",
    "    \"preTestScore\": [4, 24, 31, 2, 3],\n",
    "    \"postTestScore\": [25, 94, 57, 62, 70],\n",
    "}"
   ]
  },
  {
   "cell_type": "code",
   "execution_count": 4,
   "id": "06f8b310-0952-49ea-83a2-8cc49c504b4b",
   "metadata": {},
   "outputs": [
    {
     "data": {
      "text/html": [
       "<div>\n",
       "<style scoped>\n",
       "    .dataframe tbody tr th:only-of-type {\n",
       "        vertical-align: middle;\n",
       "    }\n",
       "\n",
       "    .dataframe tbody tr th {\n",
       "        vertical-align: top;\n",
       "    }\n",
       "\n",
       "    .dataframe thead th {\n",
       "        text-align: right;\n",
       "    }\n",
       "</style>\n",
       "<table border=\"1\" class=\"dataframe\">\n",
       "  <thead>\n",
       "    <tr style=\"text-align: right;\">\n",
       "      <th></th>\n",
       "      <th>first_name</th>\n",
       "      <th>last_name</th>\n",
       "      <th>age</th>\n",
       "      <th>female</th>\n",
       "      <th>preTestScore</th>\n",
       "      <th>postTestScore</th>\n",
       "    </tr>\n",
       "  </thead>\n",
       "  <tbody>\n",
       "    <tr>\n",
       "      <th>0</th>\n",
       "      <td>Jason</td>\n",
       "      <td>Miller</td>\n",
       "      <td>42</td>\n",
       "      <td>0</td>\n",
       "      <td>4</td>\n",
       "      <td>25</td>\n",
       "    </tr>\n",
       "    <tr>\n",
       "      <th>1</th>\n",
       "      <td>Molly</td>\n",
       "      <td>Jacobson</td>\n",
       "      <td>52</td>\n",
       "      <td>1</td>\n",
       "      <td>24</td>\n",
       "      <td>94</td>\n",
       "    </tr>\n",
       "    <tr>\n",
       "      <th>2</th>\n",
       "      <td>Tina</td>\n",
       "      <td>Ali</td>\n",
       "      <td>36</td>\n",
       "      <td>1</td>\n",
       "      <td>31</td>\n",
       "      <td>57</td>\n",
       "    </tr>\n",
       "    <tr>\n",
       "      <th>3</th>\n",
       "      <td>Jake</td>\n",
       "      <td>Milner</td>\n",
       "      <td>24</td>\n",
       "      <td>0</td>\n",
       "      <td>2</td>\n",
       "      <td>62</td>\n",
       "    </tr>\n",
       "    <tr>\n",
       "      <th>4</th>\n",
       "      <td>Amy</td>\n",
       "      <td>Cooze</td>\n",
       "      <td>73</td>\n",
       "      <td>1</td>\n",
       "      <td>3</td>\n",
       "      <td>70</td>\n",
       "    </tr>\n",
       "  </tbody>\n",
       "</table>\n",
       "</div>"
      ],
      "text/plain": [
       "  first_name last_name  age  female  preTestScore  postTestScore\n",
       "0      Jason    Miller   42       0             4             25\n",
       "1      Molly  Jacobson   52       1            24             94\n",
       "2       Tina       Ali   36       1            31             57\n",
       "3       Jake    Milner   24       0             2             62\n",
       "4        Amy     Cooze   73       1             3             70"
      ]
     },
     "execution_count": 4,
     "metadata": {},
     "output_type": "execute_result"
    }
   ],
   "source": [
    "df = pd.DataFrame(dictionary)\n",
    "df"
   ]
  },
  {
   "cell_type": "markdown",
   "id": "3429540b-8292-49e7-bce9-968d00731bdc",
   "metadata": {},
   "source": [
    "## ❄ Step 3. Create a Scatterplot of preTestScore and postTestScore, with the size of each point determined by age\n",
    "\n",
    "---\n",
    "\n",
    "Hint: Don't forget to place the labels"
   ]
  },
  {
   "cell_type": "code",
   "execution_count": 5,
   "id": "95076cf9-7e5c-413e-b2ef-235404fee5f3",
   "metadata": {},
   "outputs": [
    {
     "data": {
      "image/png": "[encoded data removed]",
      "text/plain": [
       "<Figure size 563.2x422.4 with 1 Axes>"
      ]
     },
     "metadata": {
      "needs_background": "dark"
     },
     "output_type": "display_data"
    }
   ],
   "source": [
    "plt.figure(figsize=[5.12, 3.84], dpi=110)\n",
    "\n",
    "plt.scatter(x=df[\"preTestScore\"], y=df[\"postTestScore\"], s=df[\"age\"])\n",
    "\n",
    "plt.title(\"preTestScore vs. postTestScore\")\n",
    "plt.xlabel(\"preTestScore\")\n",
    "plt.ylabel(\"postTestScore\")"
   ]
  },
  {
   "cell_type": "markdown",
   "id": "ca027aae-edbd-45bb-b6e7-55c566c97311",
   "metadata": {},
   "source": [
    "## 🌸 Step 4. Create a Scatterplot of preTestScore and postTestScore.\n",
    "\n",
    "---\n",
    "\n",
    "This time the size should be 4.5 times the postTestScore and the color determined by sex"
   ]
  },
  {
   "cell_type": "code",
   "execution_count": 6,
   "id": "dab964c7-fed3-4993-9cf2-e86ec546a9a3",
   "metadata": {},
   "outputs": [
    {
     "data": {
      "image/png": "[encoded data removed]",
      "text/plain": [
       "<Figure size 768x576 with 1 Axes>"
      ]
     },
     "metadata": {
      "needs_background": "dark"
     },
     "output_type": "display_data"
    }
   ],
   "source": [
    "plt.figure(figsize=[7.68, 5.76], dpi=100)\n",
    "\n",
    "plt.scatter(\n",
    "    x=df[\"preTestScore\"],\n",
    "    y=df[\"postTestScore\"],\n",
    "    s=4.5 * df[\"postTestScore\"],\n",
    "    c=df[\"female\"],\n",
    ")\n",
    "\n",
    "plt.title(\"preTestScore vs. postTestScore\")\n",
    "plt.xlabel(\"preTestScore\")\n",
    "plt.ylabel(\"postTestScore\")"
   ]
  }
 ],
 "metadata": {
  "jupytext": {
   "formats": "ipynb,py"
  },
  "kernelspec": {
   "display_name": "Python 3 (ipykernel)",
   "language": "python",
   "name": "python3"
  },
  "language_info": {
   "codemirror_mode": {
    "name": "ipython",
    "version": 3
   },
   "file_extension": ".py",
   "mimetype": "text/x-python",
   "name": "python",
   "nbconvert_exporter": "python",
   "pygments_lexer": "ipython3",
   "version": "3.10.5"
  }
 },
 "nbformat": 4,
 "nbformat_minor": 5
}
