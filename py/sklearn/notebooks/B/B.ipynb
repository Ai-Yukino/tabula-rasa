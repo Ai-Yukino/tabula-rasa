{
 "cells": [
  {
   "cell_type": "markdown",
   "id": "aadcb766-6592-4955-9b19-6235d1797ee3",
   "metadata": {},
   "source": [
    "# `tabula-rasa/py/sklearn/B.ipynb`\n",
    "\n",
    "---\n",
    "\n",
    "My solutions for part B of [/12_mod_scikitlearn/05-Exercises.ipynb](https://github.com/lrangellara/tts-ds-fundamentals-course/blob/main/datascience/python/12_mod_scikitlearn/05-Exercises.ipynb)"
   ]
  },
  {
   "cell_type": "markdown",
   "id": "87e67f1b-ce27-4cc4-a192-fdba8a59ac90",
   "metadata": {},
   "source": [
    "## 🐍 Python imports 🐍 "
   ]
  },
  {
   "cell_type": "code",
   "execution_count": 4,
   "id": "26f0e6f2-035f-4371-a5ab-0c0e8fe0661d",
   "metadata": {},
   "outputs": [],
   "source": [
    "import os\n",
    "\n",
    "import pandas as pd\n",
    "import matplotlib.pyplot as plt"
   ]
  },
  {
   "cell_type": "markdown",
   "id": "3e43f684-4bab-40e3-8234-c053827eac2f",
   "metadata": {},
   "source": [
    "## 🎨 Styling 🎨"
   ]
  },
  {
   "cell_type": "code",
   "execution_count": 11,
   "id": "742ef46f-3996-46eb-837f-383590a63c72",
   "metadata": {},
   "outputs": [],
   "source": [
    "# plt.style.use(\"./../../style/ai.mplstyle\")\n",
    "\n",
    "path = os.path.join(\".\", \"..\", \"..\", \"style\", \"ai.mplstyle\")\n",
    "plt.style.use(path)"
   ]
  },
  {
   "cell_type": "markdown",
   "id": "78a7ef05-5703-4540-b917-351848839a11",
   "metadata": {},
   "source": [
    "## 📁 Data loading 📁"
   ]
  },
  {
   "cell_type": "code",
   "execution_count": 12,
   "id": "d32759a4-3b48-4a7f-9885-566d0630a987",
   "metadata": {},
   "outputs": [],
   "source": [
    "# pd.read_csv(\"./../../data/iris.csv\")\n",
    "\n",
    "path = os.path.join(\".\", \"..\", \"..\", \"data\", \"iris.csv\")\n",
    "df = pd.read_csv(path)"
   ]
  },
  {
   "cell_type": "markdown",
   "id": "ca87a480-3104-421a-9e3a-b58301548ae5",
   "metadata": {},
   "source": [
    "## ❄ Exercise 1.\n",
    "\n",
    "---\n",
    "\n",
    "Write a Python program to create a plot to get a general Statistics of Iris data."
   ]
  },
  {
   "cell_type": "code",
   "execution_count": 17,
   "id": "a8515c9e-31bc-4131-9d35-f6a49cf942e4",
   "metadata": {},
   "outputs": [
    {
     "data": {
      "text/html": [
       "<div>\n",
       "<style scoped>\n",
       "    .dataframe tbody tr th:only-of-type {\n",
       "        vertical-align: middle;\n",
       "    }\n",
       "\n",
       "    .dataframe tbody tr th {\n",
       "        vertical-align: top;\n",
       "    }\n",
       "\n",
       "    .dataframe thead th {\n",
       "        text-align: right;\n",
       "    }\n",
       "</style>\n",
       "<table border=\"1\" class=\"dataframe\">\n",
       "  <thead>\n",
       "    <tr style=\"text-align: right;\">\n",
       "      <th></th>\n",
       "      <th>Id</th>\n",
       "      <th>SepalLengthCm</th>\n",
       "      <th>SepalWidthCm</th>\n",
       "      <th>PetalLengthCm</th>\n",
       "      <th>PetalWidthCm</th>\n",
       "    </tr>\n",
       "  </thead>\n",
       "  <tbody>\n",
       "    <tr>\n",
       "      <th>count</th>\n",
       "      <td>150.000000</td>\n",
       "      <td>150.000000</td>\n",
       "      <td>150.000000</td>\n",
       "      <td>150.000000</td>\n",
       "      <td>150.000000</td>\n",
       "    </tr>\n",
       "    <tr>\n",
       "      <th>mean</th>\n",
       "      <td>75.500000</td>\n",
       "      <td>5.843333</td>\n",
       "      <td>3.054000</td>\n",
       "      <td>3.758667</td>\n",
       "      <td>1.198667</td>\n",
       "    </tr>\n",
       "    <tr>\n",
       "      <th>std</th>\n",
       "      <td>43.445368</td>\n",
       "      <td>0.828066</td>\n",
       "      <td>0.433594</td>\n",
       "      <td>1.764420</td>\n",
       "      <td>0.763161</td>\n",
       "    </tr>\n",
       "    <tr>\n",
       "      <th>min</th>\n",
       "      <td>1.000000</td>\n",
       "      <td>4.300000</td>\n",
       "      <td>2.000000</td>\n",
       "      <td>1.000000</td>\n",
       "      <td>0.100000</td>\n",
       "    </tr>\n",
       "    <tr>\n",
       "      <th>25%</th>\n",
       "      <td>38.250000</td>\n",
       "      <td>5.100000</td>\n",
       "      <td>2.800000</td>\n",
       "      <td>1.600000</td>\n",
       "      <td>0.300000</td>\n",
       "    </tr>\n",
       "    <tr>\n",
       "      <th>50%</th>\n",
       "      <td>75.500000</td>\n",
       "      <td>5.800000</td>\n",
       "      <td>3.000000</td>\n",
       "      <td>4.350000</td>\n",
       "      <td>1.300000</td>\n",
       "    </tr>\n",
       "    <tr>\n",
       "      <th>75%</th>\n",
       "      <td>112.750000</td>\n",
       "      <td>6.400000</td>\n",
       "      <td>3.300000</td>\n",
       "      <td>5.100000</td>\n",
       "      <td>1.800000</td>\n",
       "    </tr>\n",
       "    <tr>\n",
       "      <th>max</th>\n",
       "      <td>150.000000</td>\n",
       "      <td>7.900000</td>\n",
       "      <td>4.400000</td>\n",
       "      <td>6.900000</td>\n",
       "      <td>2.500000</td>\n",
       "    </tr>\n",
       "  </tbody>\n",
       "</table>\n",
       "</div>"
      ],
      "text/plain": [
       "               Id  SepalLengthCm  SepalWidthCm  PetalLengthCm  PetalWidthCm\n",
       "count  150.000000     150.000000    150.000000     150.000000    150.000000\n",
       "mean    75.500000       5.843333      3.054000       3.758667      1.198667\n",
       "std     43.445368       0.828066      0.433594       1.764420      0.763161\n",
       "min      1.000000       4.300000      2.000000       1.000000      0.100000\n",
       "25%     38.250000       5.100000      2.800000       1.600000      0.300000\n",
       "50%     75.500000       5.800000      3.000000       4.350000      1.300000\n",
       "75%    112.750000       6.400000      3.300000       5.100000      1.800000\n",
       "max    150.000000       7.900000      4.400000       6.900000      2.500000"
      ]
     },
     "execution_count": 17,
     "metadata": {},
     "output_type": "execute_result"
    }
   ],
   "source": [
    "df_describe = df.describe()\n",
    "df_describe"
   ]
  },
  {
   "cell_type": "code",
   "execution_count": 30,
   "id": "43350730-af6b-48f2-b085-7f02364160d9",
   "metadata": {},
   "outputs": [
    {
     "data": {
      "image/png": "[encoded data removed]",
      "text/plain": [
       "<Figure size 576x360 with 1 Axes>"
      ]
     },
     "metadata": {},
     "output_type": "display_data"
    }
   ],
   "source": [
    "fig, ax = plt.subplots(figsize=[8, 4], dpi=100)\n",
    "\n",
    "df_describe.plot(kind = \"area\",fontsize = 16, figsize = (8,5))\n",
    "plt.xlabel('Statistics',)\n",
    "plt.ylabel('Value')\n",
    "plt.title(\"General Statistics of Iris Dataset\")\n",
    "plt.show()"
   ]
  },
  {
   "cell_type": "markdown",
   "id": "0df877f9-8891-4281-9057-b9b23a6a55e7",
   "metadata": {},
   "source": [
    "## 🌸 Exercise 2.\n",
    "\n",
    "---\n",
    "\n",
    "Write a Python program to create a Bar plot to get the frequency of the three species of the Iris data."
   ]
  },
  {
   "cell_type": "markdown",
   "id": "822e2e34-f540-4f23-a02e-1651b213d244",
   "metadata": {},
   "source": [
    "## ❄ Exercise 3.\n",
    "\n",
    "---\n",
    "\n",
    "Write a Python program to create a Pie plot to get the frequency of the three species of the Iris data."
   ]
  },
  {
   "cell_type": "markdown",
   "id": "9e93f441-baa5-4b9b-89d9-57f54f9ae348",
   "metadata": {},
   "source": [
    "## 🌸 Exercise 4.\n",
    "\n",
    "---\n",
    "\n",
    "Write a Python program to create a graph to find relationship between the sepal length and width."
   ]
  },
  {
   "cell_type": "markdown",
   "id": "a65f0fa1-2318-45aa-ae5d-d53b175737fa",
   "metadata": {},
   "source": [
    "## ❄ Exercise 5.\n",
    "\n",
    "---\n",
    "\n",
    "Write a Python program to create a graph to find relationship between the petal length and width."
   ]
  },
  {
   "cell_type": "markdown",
   "id": "4550f9e0-2ef0-424e-935f-a74064a184e7",
   "metadata": {},
   "source": [
    "## 🌸 Exercise 6.\n",
    "\n",
    "---\n",
    "\n",
    "Write a Python program to create a graph to see how the length and width of SepalLength, SepalWidth, PetalLength, PetalWidth are distributed."
   ]
  },
  {
   "cell_type": "markdown",
   "id": "ab2b7684-9e17-4ae0-b7c9-72059988f556",
   "metadata": {},
   "source": [
    "## ❄ Exercise 7.\n",
    "\n",
    "---\n",
    "\n",
    "Write a Python program to create a joinplot to describe individual distributions on the same plot between Sepal length and Sepal width. Note: joinplot - Draw a plot of two variables with bivariate and univariate graphs."
   ]
  },
  {
   "cell_type": "markdown",
   "id": "4c521465-7253-4bcb-b32a-5501f5d3def9",
   "metadata": {},
   "source": [
    "## 🌸 Exercise 8.\n",
    "\n",
    "---\n",
    "\n",
    "Write a Python program to create a joinplot using \"hexbin\" to describe individual distributions on the same plot between Sepal length and Sepal width. Note: The bivariate analogue of a histogram is known as a \"hexbin\" plot, because it shows the counts of observations that fall within hexagonal bins. This plot works best with relatively large datasets. It's available through the matplotlib plt.hexbin function and as a style in jointplot(). It looks best with a white background."
   ]
  },
  {
   "cell_type": "markdown",
   "id": "732f122e-8521-49cc-a56e-bc52f112e041",
   "metadata": {},
   "source": [
    "## ❄ Exercise 9.\n",
    "\n",
    "---\n",
    "\n",
    "Write a Python program to create a joinplot using \"kde\" to describe individual distributions on the same plot between Sepal length and Sepal width. Note: The kernel density estimation (kde) procedure visualize a bivariate distribution. In seaborn, this kind of plot is shown with a contour plot and is available as a style in jointplot()."
   ]
  },
  {
   "cell_type": "markdown",
   "id": "27d1bd47-d57a-424a-bf63-8d7aef6ce65d",
   "metadata": {},
   "source": [
    "## 🌸 Exercise 10.\n",
    "\n",
    "---\n",
    "\n",
    "Write a Python program to create a joinplot and add regression and kernel density fits using \"reg\" to describe individual distributions on the same plot between Sepal length and Sepal width."
   ]
  },
  {
   "cell_type": "markdown",
   "id": "a1e9f24a-5a7e-439e-abb8-c5fd1053d9bc",
   "metadata": {},
   "source": [
    "## ❄ Exercise 11.\n",
    "\n",
    "---\n",
    "\n",
    "Write a Python program to draw a scatterplot, then add a joint density estimate to describe individual distributions on the same plot between Sepal length and Sepal width."
   ]
  },
  {
   "cell_type": "markdown",
   "id": "acd632e7-4e21-40cf-9782-f222680bfb2f",
   "metadata": {},
   "source": [
    "## 🌸 Exercise 12.\n",
    "\n",
    "---\n",
    "\n",
    "Write a Python program to create a joinplot using \"kde\" to describe individual distributions on the same plot between Sepal length and Sepal width and use '+' sign as marker. Note: The kernel density estimation (kde) procedure visualize a bivariate distribution. In seaborn, this kind of plot is shown with a contour plot and is available as a style in jointplot()."
   ]
  },
  {
   "cell_type": "markdown",
   "id": "c9cbfbf9-f3a0-4332-a136-16209c70f267",
   "metadata": {},
   "source": [
    "## ❄ Exercise 13.\n",
    "\n",
    "---\n",
    "\n",
    "Write a Python program to create a pairplot of the iris data set and check which flower species seems to be the most separable."
   ]
  },
  {
   "cell_type": "markdown",
   "id": "1f50a68a-26e5-4769-b38a-cd0afbf467f3",
   "metadata": {},
   "source": [
    "## 🌸 Exercise 14.\n",
    "\n",
    "---\n",
    "\n",
    "Write a Python program using seaborn to Create a kde (Kernel Density Estimate ) plot of sepal_length versus sepal width for setosa species of flower."
   ]
  },
  {
   "cell_type": "markdown",
   "id": "b9ccbfd0-dc0c-4cee-b78c-f6a6a5b21b16",
   "metadata": {},
   "source": [
    "## ❄ Exercise 15.\n",
    "\n",
    "---\n",
    "\n",
    "Write a Python program using seaborn to Create a kde (Kernel Density Estimate ) plot of petal_length versus petal width for setosa species of flower."
   ]
  },
  {
   "cell_type": "markdown",
   "id": "40ff6a37-5691-4b01-964f-5e711bc2fdbf",
   "metadata": {},
   "source": [
    "## 🌸 Exercise 16.\n",
    "\n",
    "---\n",
    "\n",
    "Write a Python program using seaborn to Create a kde (Kernel Density Estimate ) plot of petal_length versus petal width for setosa species of flower."
   ]
  },
  {
   "cell_type": "markdown",
   "id": "037b30f9-0876-427c-8c09-cf5730c646de",
   "metadata": {},
   "source": [
    "## ❄ Exercise 17.\n",
    "\n",
    "---\n",
    "\n",
    "Write a Python program to find the correlation between variables of iris data. Also create a hitmap using Seaborn to present their relations."
   ]
  },
  {
   "cell_type": "markdown",
   "id": "3ea9729b-7277-4340-b0b9-1ad5fc898c9a",
   "metadata": {},
   "source": [
    "## 🌸 Exercise 18.\n",
    "\n",
    "---\n",
    "\n",
    "Write a Python program to create a box plot (or box-and-whisker plot) which shows the distribution of quantitative data in a way that facilitates comparisons between variables or across levels of a categorical variable of iris dataset. Use seaborn."
   ]
  },
  {
   "cell_type": "markdown",
   "id": "dc660d18-db8f-4b9a-96cf-ebe48bc5346c",
   "metadata": {},
   "source": [
    "## ❄ Exercise 19.\n",
    "\n",
    "---\n",
    "\n",
    "Write a Python program to create a Principal component analysis (PCA) of iris dataset."
   ]
  }
 ],
 "metadata": {
  "jupytext": {
   "formats": "ipynb,py"
  },
  "kernelspec": {
   "display_name": "Python 3 (ipykernel)",
   "language": "python",
   "name": "python3"
  },
  "language_info": {
   "codemirror_mode": {
    "name": "ipython",
    "version": 3
   },
   "file_extension": ".py",
   "mimetype": "text/x-python",
   "name": "python",
   "nbconvert_exporter": "python",
   "pygments_lexer": "ipython3",
   "version": "3.10.5"
  }
 },
 "nbformat": 4,
 "nbformat_minor": 5
}
